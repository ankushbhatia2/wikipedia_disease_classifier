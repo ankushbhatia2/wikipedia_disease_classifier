{
 "cells": [
  {
   "cell_type": "code",
   "execution_count": 36,
   "metadata": {},
   "outputs": [],
   "source": [
    "from tensorflow.keras.models import load_model\n",
    "from gensim.models import LdaModel\n",
    "from gensim.corpora.dictionary import Dictionary\n",
    "from gensim.test.utils import datapath\n",
    "from bs4 import BeautifulSoup\n",
    "import os, re\n",
    "import tensorflow.keras.backend as K\n",
    "import wikipedia\n",
    "import stop_words\n",
    "from nltk.tokenize import word_tokenize\n",
    "from nltk.stem import PorterStemmer\n",
    "import pickle\n",
    "import numpy as np"
   ]
  },
  {
   "cell_type": "code",
   "execution_count": 7,
   "metadata": {},
   "outputs": [],
   "source": [
    "lda = LdaModel.load(\"lda.model\")"
   ]
  },
  {
   "cell_type": "code",
   "execution_count": 31,
   "metadata": {},
   "outputs": [],
   "source": [
    "with open(\"vocab.pkl\", 'rb') as f:\n",
    "    top_k_words = pickle.load(f)"
   ]
  },
  {
   "cell_type": "code",
   "execution_count": 33,
   "metadata": {},
   "outputs": [],
   "source": [
    "def keep_top_k_words(text):\n",
    "    return [word for word in text if word in top_k_words]"
   ]
  },
  {
   "cell_type": "code",
   "execution_count": 12,
   "metadata": {},
   "outputs": [],
   "source": [
    "dictionary = Dictionary.load(\"corpora.dictionary\")"
   ]
  },
  {
   "cell_type": "code",
   "execution_count": 27,
   "metadata": {},
   "outputs": [],
   "source": [
    "remove_ref = re.compile(\"\\[[0-9]\\]\")\n",
    "def cleanText(text):\n",
    "    return remove_ref.sub(\"\", text).lower()\n",
    "\n",
    "def initial_clean(text):\n",
    "    text = re.sub(\"((\\S+)?(http(s)?)(\\S+))|((\\S+)?(www)(\\S+))|((\\S+)?(\\@)(\\S+)?)\", \" \", text)\n",
    "    text = re.sub(\"[^a-zA-Z ]\", \"\", text)\n",
    "    text = text.lower() # lower case the text\n",
    "    text = word_tokenize(text)\n",
    "    return text\n",
    "\n",
    "stopWords = stop_words.get_stop_words('english')\n",
    "def remove_stop_words(text):\n",
    "    return [word for word in text if word not in stopWords]\n",
    "\n",
    "stemmer = PorterStemmer()\n",
    "def stem_words(text):\n",
    "    try:\n",
    "        text = [stemmer.stem(word) for word in text]\n",
    "        text = [word for word in text if len(word) > 1] # make sure we have no 1 letter words\n",
    "    except IndexError: # the word \"oed\" broke this, so needed try except\n",
    "        pass\n",
    "    return text\n",
    "\n",
    "def apply_all(text):\n",
    "    return stem_words(remove_stop_words(initial_clean(text)))"
   ]
  },
  {
   "cell_type": "code",
   "execution_count": 16,
   "metadata": {},
   "outputs": [
    {
     "name": "stdout",
     "output_type": "stream",
     "text": [
      "WARNING:tensorflow:From C:\\Users\\ankubhat\\AppData\\Roaming\\Python\\Python37\\site-packages\\tensorflow_core\\python\\ops\\nn_impl.py:183: where (from tensorflow.python.ops.array_ops) is deprecated and will be removed in a future version.\n",
      "Instructions for updating:\n",
      "Use tf.where in 2.0, which has the same broadcast rule as np.where\n"
     ]
    }
   ],
   "source": [
    "def get_f1(y_true, y_pred): #taken from old keras source code\n",
    "    true_positives = K.sum(K.round(K.clip(y_true * y_pred, 0, 1)))\n",
    "    possible_positives = K.sum(K.round(K.clip(y_true, 0, 1)))\n",
    "    predicted_positives = K.sum(K.round(K.clip(y_pred, 0, 1)))\n",
    "    precision = true_positives / (predicted_positives + K.epsilon())\n",
    "    recall = true_positives / (possible_positives + K.epsilon())\n",
    "    f1_val = 2*(precision*recall)/(precision+recall+K.epsilon())\n",
    "    return f1_val\n",
    "dl_model = load_model(\"classifier.h5\", custom_objects={\"get_f1\":get_f1})"
   ]
  },
  {
   "cell_type": "code",
   "execution_count": 34,
   "metadata": {},
   "outputs": [],
   "source": [
    "def get_info(page_html):\n",
    "    page_soup = BeautifulSoup(page_html)\n",
    "    info_dict = {}\n",
    "    info_class = page_soup.find(\"table\", {\"class\":\"infobox\"})\n",
    "    for tr in info_class.find_all('tr'):\n",
    "        if tr.find(\"th\") and tr.find(\"td\"):\n",
    "            info_dict[tr.th.text.strip().lower()] = cleanText(tr.td.text.strip())\n",
    "    return info_dict\n",
    "\n",
    "def predict_page(page_name):\n",
    "    page = wikipedia.page(page_name)\n",
    "    test_toks = keep_top_k_words(apply_all(page.content))\n",
    "    test_bow = dictionary.doc2bow(test_toks)\n",
    "    test_doc_distribution = np.array([tup[1] for tup in lda.get_document_topics(bow=test_bow)])\n",
    "    pred = dl_model.predict(np.array([test_doc_distribution]))\n",
    "    is_disease = pred[0][0] > 0.9\n",
    "    info_dict = {}\n",
    "    if is_disease:\n",
    "        info_dict['disease name'] = page.title\n",
    "        info_dict.update(get_info(page.html()))\n",
    "    return is_disease, info_dict"
   ]
  },
  {
   "cell_type": "code",
   "execution_count": 37,
   "metadata": {},
   "outputs": [
    {
     "data": {
      "text/plain": [
       "(True,\n",
       " {'disease name': 'Syphilis',\n",
       "  'specialty': 'infectious disease',\n",
       "  'symptoms': 'firm, painless, non-itchy skin ulcer',\n",
       "  'causes': 'treponema pallidum usually spread by sex',\n",
       "  'diagnostic method': 'blood tests, dark field microscopy of infected fluid',\n",
       "  'differential diagnosis': 'many other diseases',\n",
       "  'prevention': 'condoms, not having sex',\n",
       "  'treatment': 'antibiotics',\n",
       "  'frequency': '45.4 million / 0.6% (2015)',\n",
       "  'deaths': '107,000 (2015)'})"
      ]
     },
     "execution_count": 37,
     "metadata": {},
     "output_type": "execute_result"
    }
   ],
   "source": [
    "predict_page(\"syphilis\")"
   ]
  },
  {
   "cell_type": "code",
   "execution_count": null,
   "metadata": {},
   "outputs": [],
   "source": []
  }
 ],
 "metadata": {
  "kernelspec": {
   "display_name": "Python 3",
   "language": "python",
   "name": "python3"
  },
  "language_info": {
   "codemirror_mode": {
    "name": "ipython",
    "version": 3
   },
   "file_extension": ".py",
   "mimetype": "text/x-python",
   "name": "python",
   "nbconvert_exporter": "python",
   "pygments_lexer": "ipython3",
   "version": "3.7.4"
  }
 },
 "nbformat": 4,
 "nbformat_minor": 2
}
